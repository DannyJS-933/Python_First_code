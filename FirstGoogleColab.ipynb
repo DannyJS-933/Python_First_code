{
  "nbformat": 4,
  "nbformat_minor": 0,
  "metadata": {
    "colab": {
      "name": "Untitled1.ipynb",
      "provenance": [],
      "collapsed_sections": [],
      "authorship_tag": "ABX9TyNQ8fCoisuquSBEW5aGDfLV",
      "include_colab_link": true
    },
    "kernelspec": {
      "name": "python3",
      "display_name": "Python 3"
    },
    "language_info": {
      "name": "python"
    }
  },
  "cells": [
    {
      "cell_type": "markdown",
      "metadata": {
        "id": "view-in-github",
        "colab_type": "text"
      },
      "source": [
        "<a href=\"https://colab.research.google.com/github/DannyJS-933/Python_First_code/blob/main/FirstGoogleColab.ipynb\" target=\"_parent\"><img src=\"https://colab.research.google.com/assets/colab-badge.svg\" alt=\"Open In Colab\"/></a>"
      ]
    },
    {
      "cell_type": "code",
      "metadata": {
        "id": "oFl5JU9fVscd"
      },
      "source": [
        "import numpy as np"
      ],
      "execution_count": 4,
      "outputs": []
    },
    {
      "cell_type": "code",
      "metadata": {
        "colab": {
          "base_uri": "https://localhost:8080/"
        },
        "id": "RkJMT7gA65Hu",
        "outputId": "4350044f-c23d-4145-8ae5-6abb1f0c658b"
      },
      "source": [
        "np.zeros((3,2))"
      ],
      "execution_count": 7,
      "outputs": [
        {
          "output_type": "execute_result",
          "data": {
            "text/plain": [
              "array([[0., 0.],\n",
              "       [0., 0.],\n",
              "       [0., 0.]])"
            ]
          },
          "metadata": {},
          "execution_count": 7
        }
      ]
    },
    {
      "cell_type": "code",
      "metadata": {
        "colab": {
          "base_uri": "https://localhost:8080/"
        },
        "id": "5Fa51IXY7Lld",
        "outputId": "dab56ab3-9cb5-4c94-c50f-f81629dc631e"
      },
      "source": [
        "np.ones((4,2))"
      ],
      "execution_count": 8,
      "outputs": [
        {
          "output_type": "execute_result",
          "data": {
            "text/plain": [
              "array([[1., 1.],\n",
              "       [1., 1.],\n",
              "       [1., 1.],\n",
              "       [1., 1.]])"
            ]
          },
          "metadata": {},
          "execution_count": 8
        }
      ]
    },
    {
      "cell_type": "markdown",
      "metadata": {
        "id": "K8t5NSIH74Bq"
      },
      "source": [
        "Desde 0 hasta antes del 20 pero de 5 en 5 0=> inicio, 20=> final y 5=> el conteo"
      ]
    },
    {
      "cell_type": "code",
      "metadata": {
        "colab": {
          "base_uri": "https://localhost:8080/"
        },
        "id": "onUKfqSq7X5Q",
        "outputId": "88e59372-7170-4fdf-dff5-a3951ba246a1"
      },
      "source": [
        "np.arange(0,20,5)"
      ],
      "execution_count": 9,
      "outputs": [
        {
          "output_type": "execute_result",
          "data": {
            "text/plain": [
              "array([ 0,  5, 10, 15])"
            ]
          },
          "metadata": {},
          "execution_count": 9
        }
      ]
    },
    {
      "cell_type": "code",
      "metadata": {
        "colab": {
          "base_uri": "https://localhost:8080/"
        },
        "id": "IEN7Ll217ikR",
        "outputId": "ee778db0-829d-4b0b-c76f-c49d077e568b"
      },
      "source": [
        "np.arange(0, 100, 10)"
      ],
      "execution_count": 10,
      "outputs": [
        {
          "output_type": "execute_result",
          "data": {
            "text/plain": [
              "array([ 0, 10, 20, 30, 40, 50, 60, 70, 80, 90])"
            ]
          },
          "metadata": {},
          "execution_count": 10
        }
      ]
    },
    {
      "cell_type": "code",
      "metadata": {
        "id": "6Zx6dxxi8OJY"
      },
      "source": [
        "a = np.arange(10)"
      ],
      "execution_count": 11,
      "outputs": []
    },
    {
      "cell_type": "code",
      "metadata": {
        "colab": {
          "base_uri": "https://localhost:8080/"
        },
        "id": "s6hhbtJI8xBN",
        "outputId": "08d178c9-109a-49ae-e922-16f2ad3c345e"
      },
      "source": [
        "a"
      ],
      "execution_count": 12,
      "outputs": [
        {
          "output_type": "execute_result",
          "data": {
            "text/plain": [
              "array([0, 1, 2, 3, 4, 5, 6, 7, 8, 9])"
            ]
          },
          "metadata": {},
          "execution_count": 12
        }
      ]
    },
    {
      "cell_type": "markdown",
      "metadata": {
        "id": "6oTA56ZI9w0x"
      },
      "source": [
        "Organizar los datos con .reshape, en el ejemplo es 5 filas y dos columnas. No pueden sobrar los datos\n"
      ]
    },
    {
      "cell_type": "code",
      "metadata": {
        "colab": {
          "base_uri": "https://localhost:8080/"
        },
        "id": "TBYoF9dA8-32",
        "outputId": "04e039ef-394d-460c-ce26-d41375dea4e7"
      },
      "source": [
        "a.reshape((5,2))"
      ],
      "execution_count": 13,
      "outputs": [
        {
          "output_type": "execute_result",
          "data": {
            "text/plain": [
              "array([[0, 1],\n",
              "       [2, 3],\n",
              "       [4, 5],\n",
              "       [6, 7],\n",
              "       [8, 9]])"
            ]
          },
          "metadata": {},
          "execution_count": 13
        }
      ]
    },
    {
      "cell_type": "code",
      "metadata": {
        "id": "PhRbRTvR9DwR"
      },
      "source": [
        "b = np.arange(16)\n"
      ],
      "execution_count": 14,
      "outputs": []
    },
    {
      "cell_type": "code",
      "metadata": {
        "colab": {
          "base_uri": "https://localhost:8080/"
        },
        "id": "QmIrAF2x-GQl",
        "outputId": "3bf46338-e056-41df-aebd-33cf7765c112"
      },
      "source": [
        "b"
      ],
      "execution_count": 15,
      "outputs": [
        {
          "output_type": "execute_result",
          "data": {
            "text/plain": [
              "array([ 0,  1,  2,  3,  4,  5,  6,  7,  8,  9, 10, 11, 12, 13, 14, 15])"
            ]
          },
          "metadata": {},
          "execution_count": 15
        }
      ]
    },
    {
      "cell_type": "markdown",
      "metadata": {
        "id": "1blzswCP-P4K"
      },
      "source": [
        "En este ejemplo creamos una matriz cuadrada "
      ]
    },
    {
      "cell_type": "code",
      "metadata": {
        "colab": {
          "base_uri": "https://localhost:8080/"
        },
        "id": "PIA7MqoU-Hrb",
        "outputId": "cda1f3ec-9d66-4fdd-dc10-047092f2376d"
      },
      "source": [
        "b = b.reshape(4,4)\n",
        "b"
      ],
      "execution_count": 26,
      "outputs": [
        {
          "output_type": "execute_result",
          "data": {
            "text/plain": [
              "array([[ 0,  1,  2,  3],\n",
              "       [ 4,  5,  6,  7],\n",
              "       [ 8,  9, 10, 11],\n",
              "       [12, 13, 14, 15]])"
            ]
          },
          "metadata": {},
          "execution_count": 26
        }
      ]
    },
    {
      "cell_type": "code",
      "metadata": {
        "id": "aRKuxYvA-Odx",
        "colab": {
          "base_uri": "https://localhost:8080/"
        },
        "outputId": "98a0877a-594b-4d34-9cbe-f0700ae88fb6"
      },
      "source": [
        "b[0]"
      ],
      "execution_count": 28,
      "outputs": [
        {
          "output_type": "execute_result",
          "data": {
            "text/plain": [
              "array([0, 1, 2, 3])"
            ]
          },
          "metadata": {},
          "execution_count": 28
        }
      ]
    },
    {
      "cell_type": "markdown",
      "metadata": {
        "id": "4-gRB-7UPtGZ"
      },
      "source": [
        "linspace nos permite obtener valores dentro de un rango, por ejemplo de entre el 0 y hasta el uno deme 4 valores"
      ]
    },
    {
      "cell_type": "code",
      "metadata": {
        "colab": {
          "base_uri": "https://localhost:8080/"
        },
        "id": "DenooVD1Pl8m",
        "outputId": "14453a60-154b-4f5e-deb3-612229e55b05"
      },
      "source": [
        "np.linspace(0,1,4)\n",
        "\n",
        "c = np.linspace(4,10, 5)\n",
        "c"
      ],
      "execution_count": 31,
      "outputs": [
        {
          "output_type": "execute_result",
          "data": {
            "text/plain": [
              "array([ 4. ,  5.5,  7. ,  8.5, 10. ])"
            ]
          },
          "metadata": {},
          "execution_count": 31
        }
      ]
    },
    {
      "cell_type": "markdown",
      "metadata": {
        "id": "sMzLdUYITHYF"
      },
      "source": [
        "tomar el tiempo el tiempo de mi linea de codigo de mi arreglo con %time"
      ]
    },
    {
      "cell_type": "code",
      "metadata": {
        "colab": {
          "base_uri": "https://localhost:8080/"
        },
        "id": "6uTxWHcYR175",
        "outputId": "1f5f3a57-0176-4b50-84d3-f5e581318908"
      },
      "source": [
        "mi_arreglo = np.arange(1_000_000)\n",
        "mi_lista = list(range(1_000_000))\n",
        "\n",
        "%time for i in range(10): resultado_arreglo = mi_arreglo * 2 "
      ],
      "execution_count": 32,
      "outputs": [
        {
          "output_type": "stream",
          "name": "stdout",
          "text": [
            "CPU times: user 14.5 ms, sys: 6.07 ms, total: 20.5 ms\n",
            "Wall time: 20.4 ms\n"
          ]
        }
      ]
    },
    {
      "cell_type": "markdown",
      "metadata": {
        "id": "SLxb6NqPTCqm"
      },
      "source": [
        "tomar el tiempo de mi linea de codigo de la lista "
      ]
    },
    {
      "cell_type": "code",
      "metadata": {
        "colab": {
          "base_uri": "https://localhost:8080/"
        },
        "id": "I_VWXJodSqn4",
        "outputId": "d4bc52bf-24ff-4b46-b8a0-e0b54cd05b23"
      },
      "source": [
        "%time for i in range(10): resultado_lista = [x * 2 for x in mi_lista]"
      ],
      "execution_count": 33,
      "outputs": [
        {
          "output_type": "stream",
          "name": "stdout",
          "text": [
            "CPU times: user 806 ms, sys: 198 ms, total: 1 s\n",
            "Wall time: 1.01 s\n"
          ]
        }
      ]
    },
    {
      "cell_type": "markdown",
      "metadata": {
        "id": "GoBVAZuEUfIC"
      },
      "source": [
        "Numeros random con Nunpy\n",
        "y tener un promedio de 10, 3 y 20"
      ]
    },
    {
      "cell_type": "code",
      "metadata": {
        "id": "upGmQpl-UkBW"
      },
      "source": [
        "mean = 10\n",
        "stdev = 3\n",
        "number_value = 20\n",
        "mi_arreglo = np.random.normal(mean, stdev, number_value)"
      ],
      "execution_count": 35,
      "outputs": []
    },
    {
      "cell_type": "code",
      "metadata": {
        "colab": {
          "base_uri": "https://localhost:8080/"
        },
        "id": "ONETWKcGVgF1",
        "outputId": "01de4889-ad28-4e22-8464-9da94da1a0df"
      },
      "source": [
        "mi_arreglo.mean()\n",
        "mi_arreglo.std()\n"
      ],
      "execution_count": 39,
      "outputs": [
        {
          "output_type": "execute_result",
          "data": {
            "text/plain": [
              "2.0768148551663668"
            ]
          },
          "metadata": {},
          "execution_count": 39
        }
      ]
    },
    {
      "cell_type": "markdown",
      "metadata": {
        "id": "09hoLCznWLlz"
      },
      "source": [
        "numeros aleatorios y enteros"
      ]
    },
    {
      "cell_type": "code",
      "metadata": {
        "colab": {
          "base_uri": "https://localhost:8080/"
        },
        "id": "4glEF26uWONy",
        "outputId": "8fe185ae-a099-4a7e-f4e9-bdd437ab8de8"
      },
      "source": [
        "np.random.randint(1,10,5)"
      ],
      "execution_count": 42,
      "outputs": [
        {
          "output_type": "execute_result",
          "data": {
            "text/plain": [
              "array([2, 7, 5, 5, 1])"
            ]
          },
          "metadata": {},
          "execution_count": 42
        }
      ]
    },
    {
      "cell_type": "markdown",
      "metadata": {
        "id": "ielbXuZYW4xu"
      },
      "source": [
        "Creo el array y escojo de forma aleatoria a una fruta"
      ]
    },
    {
      "cell_type": "code",
      "metadata": {
        "id": "FKss1CTVWUdO"
      },
      "source": [
        "frutas = np.array(['pera', 'manzana', 'yuca', 'tiquisque', 'pina'])"
      ],
      "execution_count": 43,
      "outputs": []
    },
    {
      "cell_type": "code",
      "metadata": {
        "colab": {
          "base_uri": "https://localhost:8080/"
        },
        "id": "0lmv4XhjWuJS",
        "outputId": "a775ebc2-d19a-488d-dbe2-980b4d45f53b"
      },
      "source": [
        "np.random.choice(frutas, 1)\n"
      ],
      "execution_count": 50,
      "outputs": [
        {
          "output_type": "execute_result",
          "data": {
            "text/plain": [
              "array(['pina'], dtype='<U9')"
            ]
          },
          "metadata": {},
          "execution_count": 50
        }
      ]
    }
  ]
}