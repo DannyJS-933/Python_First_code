{
  "nbformat": 4,
  "nbformat_minor": 0,
  "metadata": {
    "colab": {
      "name": "Untitled2.ipynb",
      "provenance": [],
      "authorship_tag": "ABX9TyNMp+7lic5BY1CJf89SeaO7",
      "include_colab_link": true
    },
    "kernelspec": {
      "name": "python3",
      "display_name": "Python 3"
    },
    "language_info": {
      "name": "python"
    }
  },
  "cells": [
    {
      "cell_type": "markdown",
      "metadata": {
        "id": "view-in-github",
        "colab_type": "text"
      },
      "source": [
        "<a href=\"https://colab.research.google.com/github/DannyJS-933/Python_First_code/blob/main/EjercicioNumpy.ipynb\" target=\"_parent\"><img src=\"https://colab.research.google.com/assets/colab-badge.svg\" alt=\"Open In Colab\"/></a>"
      ]
    },
    {
      "cell_type": "code",
      "metadata": {
        "id": "HUUWCH3b91xa"
      },
      "source": [
        ""
      ],
      "execution_count": null,
      "outputs": []
    },
    {
      "cell_type": "markdown",
      "metadata": {
        "id": "XvwnrdEsVseH"
      },
      "source": [
        "## Exercises"
      ]
    },
    {
      "cell_type": "markdown",
      "metadata": {
        "id": "Xf0nHJl3VseH"
      },
      "source": [
        "#### Create an array from 0 to 26 assign it to a variable x"
      ]
    },
    {
      "cell_type": "code",
      "metadata": {
        "id": "CFzHAXotVseI"
      },
      "source": [
        ""
      ],
      "execution_count": null,
      "outputs": []
    },
    {
      "cell_type": "markdown",
      "metadata": {
        "id": "gSpgRMsjVseK"
      },
      "source": [
        "#### Reverse the order of the array and print it out"
      ]
    },
    {
      "cell_type": "code",
      "metadata": {
        "id": "Xg3yZ1yYVseL"
      },
      "source": [
        ""
      ],
      "execution_count": null,
      "outputs": []
    },
    {
      "cell_type": "markdown",
      "metadata": {
        "id": "9C0WP05VVseR"
      },
      "source": [
        "#### Convert the 1-dimensional array you created into a 3 dimensional array"
      ]
    },
    {
      "cell_type": "code",
      "metadata": {
        "id": "S1EwyyqfVseS"
      },
      "source": [
        ""
      ],
      "execution_count": null,
      "outputs": []
    },
    {
      "cell_type": "markdown",
      "metadata": {
        "id": "30CSoki5VseU"
      },
      "source": [
        "#### Find the index (location) for value 12"
      ]
    },
    {
      "cell_type": "code",
      "metadata": {
        "id": "3en3QEIXVseV"
      },
      "source": [
        ""
      ],
      "execution_count": null,
      "outputs": []
    },
    {
      "cell_type": "markdown",
      "metadata": {
        "id": "aIawXcgSVseb"
      },
      "source": [
        "#### Create a random shuffled list of values from 0-19 and assign it to variable y"
      ]
    },
    {
      "cell_type": "code",
      "metadata": {
        "id": "G9hLCgCeVseb"
      },
      "source": [
        ""
      ],
      "execution_count": null,
      "outputs": []
    },
    {
      "cell_type": "markdown",
      "metadata": {
        "id": "aRe_-tIOVsee"
      },
      "source": [
        "#### Create an array of boolean values for values in y that are greater than 10"
      ]
    },
    {
      "cell_type": "code",
      "metadata": {
        "id": "wZ3zDBh-Vsee"
      },
      "source": [
        ""
      ],
      "execution_count": null,
      "outputs": []
    },
    {
      "cell_type": "markdown",
      "metadata": {
        "id": "r8XL5KlKVseg"
      },
      "source": [
        "#### Create a random sample of 20 data points from a normal distribution with mean of 10 and standard deviation 5"
      ]
    },
    {
      "cell_type": "code",
      "metadata": {
        "id": "zwFXB9qbVseh"
      },
      "source": [
        ""
      ],
      "execution_count": null,
      "outputs": []
    },
    {
      "cell_type": "markdown",
      "metadata": {
        "id": "WjSKcMUHdXm5"
      },
      "source": [
        "Calcular el precio final de un arreglo de precio si el descuento es el 15%"
      ]
    },
    {
      "cell_type": "code",
      "metadata": {
        "id": "qIgzypBhdfEb"
      },
      "source": [
        "precio = np.array([2100,150,400,300,150])"
      ],
      "execution_count": null,
      "outputs": []
    },
    {
      "cell_type": "code",
      "metadata": {
        "id": "wGKOAuTDdkYC"
      },
      "source": [
        ""
      ],
      "execution_count": null,
      "outputs": []
    }
  ]
}