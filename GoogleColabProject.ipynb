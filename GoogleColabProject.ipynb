{
  "nbformat": 4,
  "nbformat_minor": 0,
  "metadata": {
    "colab": {
      "name": "Untitled2.ipynb",
      "provenance": [],
      "collapsed_sections": [],
      "authorship_tag": "ABX9TyN+cMaFtBd5Y8hS5eld+lTJ",
      "include_colab_link": true
    },
    "kernelspec": {
      "name": "python3",
      "display_name": "Python 3"
    },
    "language_info": {
      "name": "python"
    }
  },
  "cells": [
    {
      "cell_type": "markdown",
      "metadata": {
        "id": "view-in-github",
        "colab_type": "text"
      },
      "source": [
        "<a href=\"https://colab.research.google.com/github/DannyJS-933/Python_First_code/blob/main/GoogleColabProject.ipynb\" target=\"_parent\"><img src=\"https://colab.research.google.com/assets/colab-badge.svg\" alt=\"Open In Colab\"/></a>"
      ]
    },
    {
      "cell_type": "markdown",
      "metadata": {
        "id": "XvwnrdEsVseH"
      },
      "source": [
        "## Exercises"
      ]
    },
    {
      "cell_type": "markdown",
      "metadata": {
        "id": "Xf0nHJl3VseH"
      },
      "source": [
        "#### Create an array from 0 to 26 assign it to a variable x"
      ]
    },
    {
      "cell_type": "code",
      "metadata": {
        "id": "CFzHAXotVseI"
      },
      "source": [
        "import numpy as np\n"
      ],
      "execution_count": 4,
      "outputs": []
    },
    {
      "cell_type": "code",
      "metadata": {
        "colab": {
          "base_uri": "https://localhost:8080/"
        },
        "id": "0bIGwwPQFfs2",
        "outputId": "36f4777e-b6ce-42a7-b190-4b8a3d8d20d4"
      },
      "source": [
        "x = np.arange(27)\n",
        "print(x)"
      ],
      "execution_count": 25,
      "outputs": [
        {
          "output_type": "stream",
          "name": "stdout",
          "text": [
            "[ 0  1  2  3  4  5  6  7  8  9 10 11 12 13 14 15 16 17 18 19 20 21 22 23\n",
            " 24 25 26]\n"
          ]
        }
      ]
    },
    {
      "cell_type": "markdown",
      "metadata": {
        "id": "gSpgRMsjVseK"
      },
      "source": [
        "#### Reverse the order of the array and print it out"
      ]
    },
    {
      "cell_type": "code",
      "metadata": {
        "id": "Xg3yZ1yYVseL",
        "colab": {
          "base_uri": "https://localhost:8080/"
        },
        "outputId": "d5a6f2d1-0c16-4531-a57d-1773c701d04e"
      },
      "source": [
        "x_reverse = x[::-1]\n",
        "print(x_reverse)"
      ],
      "execution_count": 27,
      "outputs": [
        {
          "output_type": "stream",
          "name": "stdout",
          "text": [
            "[26 25 24 23 22 21 20 19 18 17 16 15 14 13 12 11 10  9  8  7  6  5  4  3\n",
            "  2  1  0]\n"
          ]
        }
      ]
    },
    {
      "cell_type": "markdown",
      "metadata": {
        "id": "9C0WP05VVseR"
      },
      "source": [
        "#### Convert the 1-dimensional array you created into a 3 dimensional array"
      ]
    },
    {
      "cell_type": "code",
      "metadata": {
        "id": "S1EwyyqfVseS",
        "colab": {
          "base_uri": "https://localhost:8080/"
        },
        "outputId": "1cd1bdbe-f73e-48d1-9096-552e1bb65d11"
      },
      "source": [
        "x_dimensional= x.reshape(3,9)\n",
        "print(x_dimensional)"
      ],
      "execution_count": 29,
      "outputs": [
        {
          "output_type": "stream",
          "name": "stdout",
          "text": [
            "[[ 0  1  2  3  4  5  6  7  8]\n",
            " [ 9 10 11 12 13 14 15 16 17]\n",
            " [18 19 20 21 22 23 24 25 26]]\n"
          ]
        }
      ]
    },
    {
      "cell_type": "markdown",
      "metadata": {
        "id": "30CSoki5VseU"
      },
      "source": [
        "#### Find the index (location) for value 12"
      ]
    },
    {
      "cell_type": "code",
      "metadata": {
        "id": "3en3QEIXVseV",
        "colab": {
          "base_uri": "https://localhost:8080/"
        },
        "outputId": "f3635aab-d1b7-4723-e690-1f5e7fb2d4a9"
      },
      "source": [
        "x_position = x_dimensional[1,3]\n",
        "x_position"
      ],
      "execution_count": 32,
      "outputs": [
        {
          "output_type": "execute_result",
          "data": {
            "text/plain": [
              "12"
            ]
          },
          "metadata": {},
          "execution_count": 32
        }
      ]
    },
    {
      "cell_type": "markdown",
      "metadata": {
        "id": "aIawXcgSVseb"
      },
      "source": [
        "#### Create a random shuffled list of values from 0-19 and assign it to variable y"
      ]
    },
    {
      "cell_type": "code",
      "metadata": {
        "id": "G9hLCgCeVseb",
        "colab": {
          "base_uri": "https://localhost:8080/"
        },
        "outputId": "bc826031-1fa7-4180-9150-1b6e3f04bb4f"
      },
      "source": [
        "y = np.random.permutation(19)\n",
        "y"
      ],
      "execution_count": 40,
      "outputs": [
        {
          "output_type": "execute_result",
          "data": {
            "text/plain": [
              "array([13,  4, 14,  9, 15,  6,  3,  8, 10, 16, 12,  2, 17,  0,  7,  5, 18,\n",
              "       11,  1])"
            ]
          },
          "metadata": {},
          "execution_count": 40
        }
      ]
    },
    {
      "cell_type": "markdown",
      "metadata": {
        "id": "aRe_-tIOVsee"
      },
      "source": [
        "#### Create an array of boolean values for values in y that are greater than 10"
      ]
    },
    {
      "cell_type": "code",
      "metadata": {
        "id": "wZ3zDBh-Vsee",
        "colab": {
          "base_uri": "https://localhost:8080/"
        },
        "outputId": "be16641a-ec31-4345-af41-cfad9586df4c"
      },
      "source": [
        "condition = y > 10\n",
        "print(condition)\n",
        "y[condition]"
      ],
      "execution_count": 43,
      "outputs": [
        {
          "output_type": "stream",
          "name": "stdout",
          "text": [
            "[ True False  True False  True False False False False  True  True False\n",
            "  True False False False  True  True False]\n"
          ]
        },
        {
          "output_type": "execute_result",
          "data": {
            "text/plain": [
              "array([13, 14, 15, 16, 12, 17, 18, 11])"
            ]
          },
          "metadata": {},
          "execution_count": 43
        }
      ]
    },
    {
      "cell_type": "markdown",
      "metadata": {
        "id": "r8XL5KlKVseg"
      },
      "source": [
        "#### Create a random sample of 20 data points from a normal distribution with mean of 10 and standard deviation 5"
      ]
    },
    {
      "cell_type": "code",
      "metadata": {
        "id": "zwFXB9qbVseh",
        "colab": {
          "base_uri": "https://localhost:8080/"
        },
        "outputId": "178b91f5-7213-48e1-de23-24ce623a9751"
      },
      "source": [
        "mean = 10\n",
        "stadev = 3\n",
        "randomSample = 10\n",
        "np.random.normal(mean, stadev, randomSample)"
      ],
      "execution_count": 6,
      "outputs": [
        {
          "output_type": "execute_result",
          "data": {
            "text/plain": [
              "array([ 6.12922646,  9.62031582, 11.58613184,  5.68168599, 12.25305087,\n",
              "        8.6095721 , 10.44953284,  9.87908341, 15.43436405,  5.70197621])"
            ]
          },
          "metadata": {},
          "execution_count": 6
        }
      ]
    },
    {
      "cell_type": "markdown",
      "metadata": {
        "id": "WjSKcMUHdXm5"
      },
      "source": [
        "Calcular el precio final de un arreglo de precio si el descuento es el 15%"
      ]
    },
    {
      "cell_type": "code",
      "metadata": {
        "id": "qIgzypBhdfEb"
      },
      "source": [
        "precio = np.array([2100,150,400,300,150])"
      ],
      "execution_count": 5,
      "outputs": []
    },
    {
      "cell_type": "code",
      "metadata": {
        "id": "wGKOAuTDdkYC",
        "colab": {
          "base_uri": "https://localhost:8080/"
        },
        "outputId": "617a9bbd-5c31-40de-8839-66a1fd92bc64"
      },
      "source": [
        "total = precio * .85\n",
        "total"
      ],
      "execution_count": 8,
      "outputs": [
        {
          "output_type": "execute_result",
          "data": {
            "text/plain": [
              "array([1785. ,  127.5,  340. ,  255. ,  127.5])"
            ]
          },
          "metadata": {},
          "execution_count": 8
        }
      ]
    }
  ]
}